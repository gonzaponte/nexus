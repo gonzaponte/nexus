{
 "cells": [
  {
   "cell_type": "code",
   "execution_count": 1,
   "metadata": {},
   "outputs": [],
   "source": [
    "import numpy as np\n",
    "import matplotlib.pyplot as plt"
   ]
  },
  {
   "cell_type": "code",
   "execution_count": 7,
   "metadata": {},
   "outputs": [],
   "source": [
    "e, p = np.loadtxt(\"log\").T\n",
    "\n",
    "e *= 1e6\n",
    "p *= 1e3"
   ]
  },
  {
   "cell_type": "code",
   "execution_count": 8,
   "metadata": {},
   "outputs": [
    {
     "data": {
      "text/plain": [
       "<matplotlib.collections.PathCollection at 0x7f58c0d6d610>"
      ]
     },
     "execution_count": 8,
     "metadata": {},
     "output_type": "execute_result"
    },
    {
     "data": {
      "image/png": "[encoded data removed]",
      "text/plain": [
       "<Figure size 432x288 with 1 Axes>"
      ]
     },
     "metadata": {
      "needs_background": "light"
     },
     "output_type": "display_data"
    }
   ],
   "source": [
    "plt.scatter(e, p, s=0.01)"
   ]
  },
  {
   "cell_type": "code",
   "execution_count": 34,
   "metadata": {},
   "outputs": [],
   "source": [
    "ids = np.argsort(e)"
   ]
  },
  {
   "cell_type": "code",
   "execution_count": 35,
   "metadata": {},
   "outputs": [
    {
     "name": "stdout",
     "output_type": "stream",
     "text": [
      "7.0953100000000004 1.0\n",
      "7.09532 0.0\n",
      "7.09532 1.0\n",
      "7.09532 1.0\n",
      "7.09532 1.0\n",
      "7.09533 1.0\n",
      "7.09533 1.0\n",
      "7.09533 1.0\n",
      "7.09533 1.0\n",
      "7.09534 1.0\n",
      "7.09534 1.0\n",
      "7.09534 1.0\n",
      "7.09534 1.0\n",
      "7.09534 0.0\n",
      "7.09534 1.0\n",
      "7.09534 1.0\n",
      "7.09535 1.0\n",
      "7.09535 1.0\n",
      "7.09535 1.0\n",
      "7.0953599999999994 1.0\n",
      "7.0953599999999994 1.0\n",
      "7.0953599999999994 0.0\n",
      "7.0953599999999994 1.0\n",
      "7.0953599999999994 1.0\n",
      "7.09537 1.0\n",
      "7.09537 1.0\n",
      "7.09537 1.0\n",
      "7.09537 1.0\n",
      "7.09537 0.0\n",
      "7.0953800000000005 1.0\n",
      "7.0953800000000005 1.0\n",
      "7.0953800000000005 1.0\n",
      "7.09539 1.0\n",
      "7.09539 1.0\n",
      "7.09539 1.0\n",
      "7.09539 1.0\n",
      "7.09539 1.0\n",
      "7.0954 1.0\n",
      "7.0954 0.0\n",
      "7.0954 1.0\n",
      "7.095409999999999 1.0\n",
      "7.095409999999999 1.0\n",
      "7.095409999999999 1.0\n",
      "7.095409999999999 1.0\n",
      "7.095409999999999 1.0\n",
      "7.095420000000001 1.0\n",
      "7.095420000000001 1.0\n",
      "7.095420000000001 1.0\n",
      "7.095420000000001 1.0\n",
      "7.095420000000001 1.0\n",
      "7.09543 1.0\n",
      "7.09543 0.0\n",
      "7.09544 1.0\n",
      "7.09544 1.0\n",
      "7.09544 1.0\n",
      "7.09544 1.0\n",
      "7.09545 0.0\n",
      "7.09545 1.0\n",
      "7.09545 1.0\n",
      "7.09546 1.0\n",
      "7.09546 1.0\n",
      "7.09546 1.0\n",
      "7.09546 1.0\n",
      "7.09546 1.0\n",
      "7.09546 1.0\n",
      "7.09547 1.0\n",
      "7.09547 1.0\n",
      "7.09547 1.0\n",
      "7.09548 1.0\n",
      "7.09548 1.0\n"
     ]
    }
   ],
   "source": [
    "i = ids[420030:420100]\n",
    "for ii in i:\n",
    "    print(e[ii], p[ii])"
   ]
  },
  {
   "cell_type": "code",
   "execution_count": null,
   "metadata": {},
   "outputs": [],
   "source": []
  }
 ],
 "metadata": {
  "kernelspec": {
   "display_name": "Python 3",
   "language": "python",
   "name": "python3"
  },
  "language_info": {
   "codemirror_mode": {
    "name": "ipython",
    "version": 3
   },
   "file_extension": ".py",
   "mimetype": "text/x-python",
   "name": "python",
   "nbconvert_exporter": "python",
   "pygments_lexer": "ipython3",
   "version": "3.7.7"
  }
 },
 "nbformat": 4,
 "nbformat_minor": 2
}
